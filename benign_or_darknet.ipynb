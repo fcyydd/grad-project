{
 "cells": [
  {
   "cell_type": "code",
   "execution_count": 1,
   "metadata": {},
   "outputs": [],
   "source": [
    "import pandas as pd\n",
    "import numpy as np\n",
    "import matplotlib.pyplot as plt\n",
    "import seaborn as sns\n",
    "\n",
    "from Darknet_Classification_FeatureSel.classification import *\n",
    "\n",
    "from sklearn.tree import DecisionTreeClassifier\n",
    "from sklearn.ensemble import RandomForestClassifier\n",
    "from sklearn.model_selection import train_test_split\n",
    "from sklearn.neural_network import MLPClassifier\n",
    "from sklearn.preprocessing import StandardScaler\n",
    "from sklearn.preprocessing import MinMaxScaler"
   ]
  },
  {
   "cell_type": "code",
   "execution_count": 2,
   "metadata": {},
   "outputs": [],
   "source": [
    "random_state = 42\n",
    "dataset_folder = \"Dataset/processed_dataset/\" \n",
    "img_folder = \"Images/\"\n",
    "\n",
    "np.random.seed(random_state)\n",
    "plt.rcParams['figure.figsize'] = (18,6)\n",
    "plt.rcParams[\"savefig.format\"] = 'jpg'\n",
    "plt.rcParams[\"savefig.dpi\"] = 600\n",
    "plt.rcParams.update({'font.size': 20})"
   ]
  },
  {
   "cell_type": "code",
   "execution_count": 3,
   "metadata": {},
   "outputs": [
    {
     "data": {
      "text/html": [
       "<div>\n",
       "<style scoped>\n",
       "    .dataframe tbody tr th:only-of-type {\n",
       "        vertical-align: middle;\n",
       "    }\n",
       "\n",
       "    .dataframe tbody tr th {\n",
       "        vertical-align: top;\n",
       "    }\n",
       "\n",
       "    .dataframe thead th {\n",
       "        text-align: right;\n",
       "    }\n",
       "</style>\n",
       "<table border=\"1\" class=\"dataframe\">\n",
       "  <thead>\n",
       "    <tr style=\"text-align: right;\">\n",
       "      <th></th>\n",
       "      <th>col_0</th>\n",
       "      <th>col_1</th>\n",
       "      <th>col_2</th>\n",
       "      <th>col_3</th>\n",
       "      <th>col_4</th>\n",
       "      <th>col_5</th>\n",
       "      <th>col_6</th>\n",
       "      <th>col_7</th>\n",
       "      <th>col_8</th>\n",
       "      <th>col_9</th>\n",
       "      <th>...</th>\n",
       "      <th>Fwd Seg Size Min</th>\n",
       "      <th>Active Mean</th>\n",
       "      <th>Active Std</th>\n",
       "      <th>Active Max</th>\n",
       "      <th>Active Min</th>\n",
       "      <th>Idle Mean</th>\n",
       "      <th>Idle Std</th>\n",
       "      <th>Idle Max</th>\n",
       "      <th>Idle Min</th>\n",
       "      <th>Label</th>\n",
       "    </tr>\n",
       "  </thead>\n",
       "  <tbody>\n",
       "    <tr>\n",
       "      <th>0</th>\n",
       "      <td>0</td>\n",
       "      <td>0</td>\n",
       "      <td>0</td>\n",
       "      <td>0</td>\n",
       "      <td>0</td>\n",
       "      <td>0</td>\n",
       "      <td>0</td>\n",
       "      <td>0</td>\n",
       "      <td>0</td>\n",
       "      <td>0</td>\n",
       "      <td>...</td>\n",
       "      <td>0.589647</td>\n",
       "      <td>0</td>\n",
       "      <td>0</td>\n",
       "      <td>0</td>\n",
       "      <td>0</td>\n",
       "      <td>0.000000e+00</td>\n",
       "      <td>0.000</td>\n",
       "      <td>0.000000e+00</td>\n",
       "      <td>0.000000e+00</td>\n",
       "      <td>Benign</td>\n",
       "    </tr>\n",
       "    <tr>\n",
       "      <th>1</th>\n",
       "      <td>0</td>\n",
       "      <td>0</td>\n",
       "      <td>0</td>\n",
       "      <td>0</td>\n",
       "      <td>0</td>\n",
       "      <td>0</td>\n",
       "      <td>0</td>\n",
       "      <td>0</td>\n",
       "      <td>0</td>\n",
       "      <td>0</td>\n",
       "      <td>...</td>\n",
       "      <td>0.589647</td>\n",
       "      <td>0</td>\n",
       "      <td>0</td>\n",
       "      <td>0</td>\n",
       "      <td>0</td>\n",
       "      <td>0.000000e+00</td>\n",
       "      <td>0.000</td>\n",
       "      <td>0.000000e+00</td>\n",
       "      <td>0.000000e+00</td>\n",
       "      <td>Benign</td>\n",
       "    </tr>\n",
       "    <tr>\n",
       "      <th>2</th>\n",
       "      <td>0</td>\n",
       "      <td>0</td>\n",
       "      <td>0</td>\n",
       "      <td>0</td>\n",
       "      <td>0</td>\n",
       "      <td>0</td>\n",
       "      <td>0</td>\n",
       "      <td>0</td>\n",
       "      <td>0</td>\n",
       "      <td>0</td>\n",
       "      <td>...</td>\n",
       "      <td>0.589647</td>\n",
       "      <td>0</td>\n",
       "      <td>0</td>\n",
       "      <td>0</td>\n",
       "      <td>0</td>\n",
       "      <td>0.000000e+00</td>\n",
       "      <td>0.000</td>\n",
       "      <td>0.000000e+00</td>\n",
       "      <td>0.000000e+00</td>\n",
       "      <td>Benign</td>\n",
       "    </tr>\n",
       "    <tr>\n",
       "      <th>3</th>\n",
       "      <td>0</td>\n",
       "      <td>0</td>\n",
       "      <td>0</td>\n",
       "      <td>0</td>\n",
       "      <td>0</td>\n",
       "      <td>0</td>\n",
       "      <td>0</td>\n",
       "      <td>0</td>\n",
       "      <td>0</td>\n",
       "      <td>0</td>\n",
       "      <td>...</td>\n",
       "      <td>0.589647</td>\n",
       "      <td>0</td>\n",
       "      <td>0</td>\n",
       "      <td>0</td>\n",
       "      <td>0</td>\n",
       "      <td>0.000000e+00</td>\n",
       "      <td>0.000</td>\n",
       "      <td>0.000000e+00</td>\n",
       "      <td>0.000000e+00</td>\n",
       "      <td>Benign</td>\n",
       "    </tr>\n",
       "    <tr>\n",
       "      <th>4</th>\n",
       "      <td>0</td>\n",
       "      <td>0</td>\n",
       "      <td>0</td>\n",
       "      <td>0</td>\n",
       "      <td>0</td>\n",
       "      <td>0</td>\n",
       "      <td>0</td>\n",
       "      <td>0</td>\n",
       "      <td>0</td>\n",
       "      <td>0</td>\n",
       "      <td>...</td>\n",
       "      <td>0.589647</td>\n",
       "      <td>0</td>\n",
       "      <td>0</td>\n",
       "      <td>0</td>\n",
       "      <td>0</td>\n",
       "      <td>1.437760e+15</td>\n",
       "      <td>3117718.131</td>\n",
       "      <td>1.437760e+15</td>\n",
       "      <td>1.437760e+15</td>\n",
       "      <td>Benign</td>\n",
       "    </tr>\n",
       "  </tbody>\n",
       "</table>\n",
       "<p>5 rows × 185 columns</p>\n",
       "</div>"
      ],
      "text/plain": [
       "   col_0  col_1  col_2  col_3  col_4  col_5  col_6  col_7  col_8  col_9  ...  \\\n",
       "0      0      0      0      0      0      0      0      0      0      0  ...   \n",
       "1      0      0      0      0      0      0      0      0      0      0  ...   \n",
       "2      0      0      0      0      0      0      0      0      0      0  ...   \n",
       "3      0      0      0      0      0      0      0      0      0      0  ...   \n",
       "4      0      0      0      0      0      0      0      0      0      0  ...   \n",
       "\n",
       "   Fwd Seg Size Min  Active Mean  Active Std  Active Max  Active Min  \\\n",
       "0          0.589647            0           0           0           0   \n",
       "1          0.589647            0           0           0           0   \n",
       "2          0.589647            0           0           0           0   \n",
       "3          0.589647            0           0           0           0   \n",
       "4          0.589647            0           0           0           0   \n",
       "\n",
       "      Idle Mean     Idle Std      Idle Max      Idle Min   Label  \n",
       "0  0.000000e+00        0.000  0.000000e+00  0.000000e+00  Benign  \n",
       "1  0.000000e+00        0.000  0.000000e+00  0.000000e+00  Benign  \n",
       "2  0.000000e+00        0.000  0.000000e+00  0.000000e+00  Benign  \n",
       "3  0.000000e+00        0.000  0.000000e+00  0.000000e+00  Benign  \n",
       "4  1.437760e+15  3117718.131  1.437760e+15  1.437760e+15  Benign  \n",
       "\n",
       "[5 rows x 185 columns]"
      ]
     },
     "execution_count": 3,
     "metadata": {},
     "output_type": "execute_result"
    }
   ],
   "source": [
    "samples = pd.read_csv(dataset_folder + \"darknet_dataset_processed_encoded.csv\")\n",
    "del samples['Label.1']\n",
    "samples.head()"
   ]
  },
  {
   "cell_type": "code",
   "execution_count": 4,
   "metadata": {},
   "outputs": [],
   "source": [
    "X, y, labels = split_train_target(samples, \"Label\")\n",
    "X_train, X_test, y_train, y_test = train_test_split(X, y, test_size=0.33, random_state=random_state)\n",
    "columns = samples.columns.tolist()"
   ]
  },
  {
   "cell_type": "code",
   "execution_count": 5,
   "metadata": {},
   "outputs": [
    {
     "name": "stderr",
     "output_type": "stream",
     "text": [
      "100%|██████████| 10/10 [01:08<00:00,  6.87s/it, Test acc. #9=0.999]\n"
     ]
    },
    {
     "name": "stdout",
     "output_type": "stream",
     "text": [
      "       precision       recall       f1-score       support       \n",
      "Benign:   99.94\t\t99.93\t\t99.93\t\t784910.00\t\t\n",
      "Darknet:  99.64\t\t99.70\t\t99.67\t\t163010.00\t\t\n",
      "\n",
      "\n",
      " 10-fold Accuracy: 99.89%\n",
      "Test accuracy: 99.92%\n",
      "\n",
      "\n",
      "Confusion matrix:\n",
      "[[38660    19]\n",
      " [   18  7992]]\n",
      "\n",
      "Benign :    99.95%\n",
      "Darknet :   99.76%\n"
     ]
    },
    {
     "data": {
      "image/png": "[encoded data removed]",
      "text/plain": [
       "<Figure size 432x288 with 2 Axes>"
      ]
     },
     "metadata": {
      "needs_background": "light"
     },
     "output_type": "display_data"
    }
   ],
   "source": [
    "dt = DecisionTreeClassifier()\n",
    "report_dt = evaluate_model(dt, X_train, y_train, X_test, y_test, \n",
    "                           labels, figsize=(6,4),rotation=(90, 0), \n",
    "                           fname=\"Images/confusionmtx_DTC\")"
   ]
  },
  {
   "cell_type": "code",
   "execution_count": 6,
   "metadata": {},
   "outputs": [
    {
     "name": "stderr",
     "output_type": "stream",
     "text": [
      "100%|██████████| 10/10 [02:29<00:00, 14.95s/it, Test acc. #9=0.999]\n"
     ]
    },
    {
     "name": "stdout",
     "output_type": "stream",
     "text": [
      "       precision       recall       f1-score       support       \n",
      "Benign:   99.89\t\t99.97\t\t99.93\t\t784910.00\t\t\n",
      "Darknet:  99.88\t\t99.45\t\t99.66\t\t163010.00\t\t\n",
      "\n",
      "\n",
      " 10-fold Accuracy: 99.88%\n",
      "Test accuracy: 99.89%\n",
      "\n",
      "\n",
      "Confusion matrix:\n",
      "[[38668    11]\n",
      " [   39  7971]]\n",
      "\n",
      "Benign :    99.90%\n",
      "Darknet :   99.86%\n"
     ]
    },
    {
     "data": {
      "image/png": "[encoded data removed]",
      "text/plain": [
       "<Figure size 432x288 with 2 Axes>"
      ]
     },
     "metadata": {
      "needs_background": "light"
     },
     "output_type": "display_data"
    }
   ],
   "source": [
    "rf = RandomForestClassifier()\n",
    "report_rf = evaluate_model(rf, X_train, y_train, X_test, y_test, labels, \n",
    "                           figsize=(6,4), rotation=(90, 0), fname=\"Images/confusionmtx_RFC\")"
   ]
  },
  {
   "cell_type": "code",
   "execution_count": 7,
   "metadata": {},
   "outputs": [],
   "source": [
    "scaler = MinMaxScaler(feature_range = (-1,1)) # StandardScaler\n",
    "scaler.fit(X)\n",
    "scaled_X_train = scaler.transform(X_train)\n",
    "scaled_X_test = scaler.transform(X_test)"
   ]
  },
  {
   "cell_type": "code",
   "execution_count": 9,
   "metadata": {},
   "outputs": [
    {
     "name": "stderr",
     "output_type": "stream",
     "text": [
      "100%|██████████| 10/10 [01:40<00:00, 10.05s/it, Test acc. #9=0.998]\n"
     ]
    },
    {
     "name": "stdout",
     "output_type": "stream",
     "text": [
      "       precision       recall       f1-score       support       \n",
      "Benign:   99.82\t\t99.98\t\t99.90\t\t784910.00\t\t\n",
      "Darknet:  99.91\t\t99.12\t\t99.51\t\t163010.00\t\t\n",
      "\n",
      "\n",
      " 10-fold Accuracy: 99.83%\n",
      "Test accuracy: 99.84%\n",
      "\n",
      "\n",
      "Confusion matrix:\n",
      "[[38677     2]\n",
      " [   71  7939]]\n",
      "\n",
      "Benign :    99.82%\n",
      "Darknet :   99.97%\n"
     ]
    },
    {
     "data": {
      "image/png": "[encoded data removed]",
      "text/plain": [
       "<Figure size 648x432 with 2 Axes>"
      ]
     },
     "metadata": {
      "needs_background": "light"
     },
     "output_type": "display_data"
    }
   ],
   "source": [
    "mlp = MLPClassifier(hidden_layer_sizes=[10, 20, 10], learning_rate=\"adaptive\", early_stopping=True)\n",
    "report_mlp, accs_mlp = evaluate_model(mlp, scaled_X_train, y_train, scaled_X_test, y_test, labels, vmax=800,\n",
    "                           rotation=(0,0), fname=\"Images/confusionmtx_MLP\", display_labels=[\"A\", \"B\"], \n",
    "                           figsize=(9,6))"
   ]
  },
  {
   "cell_type": "code",
   "execution_count": 10,
   "metadata": {},
   "outputs": [],
   "source": [
    "from sklearn.model_selection import RepeatedStratifiedKFold\n",
    "from sklearn.model_selection import cross_val_score\n",
    "from mlxtend.evaluate import *"
   ]
  },
  {
   "cell_type": "code",
   "execution_count": 11,
   "metadata": {},
   "outputs": [
    {
     "name": "stderr",
     "output_type": "stream",
     "text": [
      "[Parallel(n_jobs=-1)]: Using backend LokyBackend with 12 concurrent workers.\n",
      "[Parallel(n_jobs=-1)]: Done   1 tasks      | elapsed:   14.9s\n",
      "[Parallel(n_jobs=-1)]: Done   8 tasks      | elapsed:   32.9s\n",
      "[Parallel(n_jobs=-1)]: Done  17 tasks      | elapsed:   53.7s\n",
      "[Parallel(n_jobs=-1)]: Done  26 tasks      | elapsed:  1.2min\n",
      "[Parallel(n_jobs=-1)]: Done  37 tasks      | elapsed:  1.6min\n",
      "[Parallel(n_jobs=-1)]: Done  48 tasks      | elapsed:  2.1min\n",
      "[Parallel(n_jobs=-1)]: Done  61 tasks      | elapsed:  2.5min\n",
      "[Parallel(n_jobs=-1)]: Done  74 tasks      | elapsed:  3.0min\n",
      "[Parallel(n_jobs=-1)]: Done  88 out of 100 | elapsed:  3.5min remaining:   28.9s\n"
     ]
    },
    {
     "name": "stdout",
     "output_type": "stream",
     "text": [
      "Decision tree mean accuracy: 99.906% (0.028)\n"
     ]
    },
    {
     "name": "stderr",
     "output_type": "stream",
     "text": [
      "[Parallel(n_jobs=-1)]: Done 100 out of 100 | elapsed:  3.9min finished\n"
     ]
    }
   ],
   "source": [
    "cv = RepeatedStratifiedKFold(n_splits=10, n_repeats=10)\n",
    "scores_dt = cross_val_score(dt, X, y, scoring='accuracy', cv=cv, n_jobs=-1, verbose=10)\n",
    "print(\"Decision tree mean accuracy: %.3f%% (%.3f)\" % (np.mean(scores_dt)*100, np.std(scores_dt)*100))"
   ]
  },
  {
   "cell_type": "code",
   "execution_count": 12,
   "metadata": {},
   "outputs": [
    {
     "name": "stderr",
     "output_type": "stream",
     "text": [
      "[Parallel(n_jobs=-1)]: Using backend LokyBackend with 12 concurrent workers.\n",
      "[Parallel(n_jobs=-1)]: Done   1 tasks      | elapsed:   59.2s\n",
      "[Parallel(n_jobs=-1)]: Done   8 tasks      | elapsed:  1.6min\n",
      "[Parallel(n_jobs=-1)]: Done  17 tasks      | elapsed:  2.9min\n",
      "[Parallel(n_jobs=-1)]: Done  26 tasks      | elapsed:  4.0min\n",
      "[Parallel(n_jobs=-1)]: Done  37 tasks      | elapsed:  5.3min\n",
      "[Parallel(n_jobs=-1)]: Done  48 tasks      | elapsed:  6.3min\n",
      "[Parallel(n_jobs=-1)]: Done  61 tasks      | elapsed:  8.2min\n",
      "[Parallel(n_jobs=-1)]: Done  74 tasks      | elapsed:  9.7min\n",
      "[Parallel(n_jobs=-1)]: Done  88 out of 100 | elapsed: 11.5min remaining:  1.6min\n"
     ]
    },
    {
     "name": "stdout",
     "output_type": "stream",
     "text": [
      "Random forest mean accuracy: 99.907% (0.023)\n"
     ]
    },
    {
     "name": "stderr",
     "output_type": "stream",
     "text": [
      "[Parallel(n_jobs=-1)]: Done 100 out of 100 | elapsed: 12.2min finished\n"
     ]
    }
   ],
   "source": [
    "cv = RepeatedStratifiedKFold(n_splits=10, n_repeats=10)\n",
    "scores_rf = cross_val_score(rf, X, y, scoring='accuracy', cv=cv, n_jobs=-1, verbose=10)\n",
    "print(\"Random forest mean accuracy: %.3f%% (%.3f)\" % (np.mean(scores_rf)*100, np.std(scores_rf)*100))"
   ]
  },
  {
   "cell_type": "code",
   "execution_count": 13,
   "metadata": {},
   "outputs": [
    {
     "name": "stderr",
     "output_type": "stream",
     "text": [
      "[Parallel(n_jobs=-1)]: Using backend LokyBackend with 12 concurrent workers.\n",
      "[Parallel(n_jobs=-1)]: Done   1 tasks      | elapsed:   22.1s\n",
      "[Parallel(n_jobs=-1)]: Done   8 tasks      | elapsed:   28.4s\n",
      "[Parallel(n_jobs=-1)]: Done  17 tasks      | elapsed:   50.9s\n",
      "[Parallel(n_jobs=-1)]: Done  26 tasks      | elapsed:  1.2min\n",
      "[Parallel(n_jobs=-1)]: Done  37 tasks      | elapsed:  1.6min\n",
      "[Parallel(n_jobs=-1)]: Done  48 tasks      | elapsed:  2.0min\n",
      "[Parallel(n_jobs=-1)]: Done  61 tasks      | elapsed:  2.5min\n",
      "[Parallel(n_jobs=-1)]: Done  74 tasks      | elapsed:  3.0min\n",
      "[Parallel(n_jobs=-1)]: Done  88 out of 100 | elapsed:  3.4min remaining:   27.7s\n",
      "[Parallel(n_jobs=-1)]: Done 100 out of 100 | elapsed:  3.7min finished\n"
     ]
    },
    {
     "name": "stdout",
     "output_type": "stream",
     "text": [
      "Multilayer perceptron mean accuracy: 99.841% (0.036)\n"
     ]
    }
   ],
   "source": [
    "scaler = MinMaxScaler(feature_range = (-1,1)) # StandardScaler\n",
    "scaler.fit(X)\n",
    "scaled_X = scaler.transform(X)\n",
    "cv = RepeatedStratifiedKFold(n_splits=10, n_repeats=10)\n",
    "scores_mlp = cross_val_score(mlp, scaled_X, y, scoring='accuracy', cv=cv, n_jobs=-1, verbose=10)\n",
    "print(\"Multilayer perceptron mean accuracy: %.3f%% (%.3f)\" % (np.mean(scores_mlp)*100, np.std(scores_mlp)*100))"
   ]
  },
  {
   "cell_type": "code",
   "execution_count": 14,
   "metadata": {},
   "outputs": [
    {
     "data": {
      "image/png": "[encoded data removed]",
      "text/plain": [
       "<Figure size 1296x432 with 1 Axes>"
      ]
     },
     "metadata": {
      "needs_background": "light"
     },
     "output_type": "display_data"
    }
   ],
   "source": [
    "plt.boxplot([scores_dt*100, scores_rf*100, scores_mlp*100], labels=['Decision tree', 'Random forest', \"Multilayer perceptron\"], showmeans=True)\n",
    "plt.show()"
   ]
  },
  {
   "cell_type": "code",
   "execution_count": 15,
   "metadata": {},
   "outputs": [
    {
     "name": "stdout",
     "output_type": "stream",
     "text": [
      "t statistic: -0.609\n",
      "p value: 0.569\n",
      "Algorithms probably have the same performance\n"
     ]
    }
   ],
   "source": [
    "t, p = paired_ttest_5x2cv(estimator1=dt, estimator2=rf, X=X, y=y)\n",
    "print('t statistic: %.3f' % t)\n",
    "print('p value: %.3f' % p)\n",
    "if p <= 0.05:\n",
    "    print('Difference between mean performance is probably real')\n",
    "else:\n",
    "\tprint('Algorithms probably have the same performance')"
   ]
  },
  {
   "cell_type": "code",
   "execution_count": 16,
   "metadata": {},
   "outputs": [
    {
     "name": "stdout",
     "output_type": "stream",
     "text": [
      "t statistic: 4.503\n",
      "p value: 0.006\n",
      "Difference between mean performance is probably real\n"
     ]
    }
   ],
   "source": [
    "t, p = paired_ttest_5x2cv(estimator1=dt, estimator2=mlp, X=X, y=y)\n",
    "print('t statistic: %.3f' % t)\n",
    "print('p value: %.3f' % p)\n",
    "if p <= 0.05:\n",
    "    print('Difference between mean performance is probably real')\n",
    "else:\n",
    "\tprint('Algorithms probably have the same performance')"
   ]
  },
  {
   "cell_type": "code",
   "execution_count": 17,
   "metadata": {},
   "outputs": [
    {
     "name": "stdout",
     "output_type": "stream",
     "text": [
      "t statistic: 1.862\n",
      "p value: 0.122\n",
      "Algorithms probably have the same performance\n"
     ]
    }
   ],
   "source": [
    "t, p = paired_ttest_5x2cv(estimator1=rf, estimator2=mlp, X=X, y=y)\n",
    "print('t statistic: %.3f' % t)\n",
    "print('p value: %.3f' % p)\n",
    "if p <= 0.05:\n",
    "    print('Difference between mean performance is probably real')\n",
    "else:\n",
    "\tprint('Algorithms probably have the same performance')"
   ]
  }
 ],
 "metadata": {
  "interpreter": {
   "hash": "9662b776702706d6315f54891ca6007135782d18fd66d137a0da36c5f4e8af68"
  },
  "kernelspec": {
   "display_name": "Python 3.9.12 ('grad-project')",
   "language": "python",
   "name": "python3"
  },
  "language_info": {
   "codemirror_mode": {
    "name": "ipython",
    "version": 3
   },
   "file_extension": ".py",
   "mimetype": "text/x-python",
   "name": "python",
   "nbconvert_exporter": "python",
   "pygments_lexer": "ipython3",
   "version": "3.9.12"
  },
  "orig_nbformat": 4
 },
 "nbformat": 4,
 "nbformat_minor": 2
}
